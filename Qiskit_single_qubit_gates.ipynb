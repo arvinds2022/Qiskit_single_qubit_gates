{
  "nbformat": 4,
  "nbformat_minor": 0,
  "metadata": {
    "colab": {
      "provenance": []
    },
    "kernelspec": {
      "name": "python3",
      "display_name": "Python 3"
    },
    "language_info": {
      "name": "python"
    }
  },
  "cells": [
    {
      "cell_type": "code",
      "source": [
        "!pip install qiskit qiskit-aer --upgrade"
      ],
      "metadata": {
        "id": "Mx6284lurNt1",
        "colab": {
          "base_uri": "https://localhost:8080/"
        },
        "outputId": "318e3350-a9b5-4659-e710-2aa705a3ecff"
      },
      "execution_count": 1,
      "outputs": [
        {
          "output_type": "stream",
          "name": "stdout",
          "text": [
            "Collecting qiskit\n",
            "  Downloading qiskit-2.2.1-cp39-abi3-manylinux2014_x86_64.manylinux_2_17_x86_64.whl.metadata (12 kB)\n",
            "Collecting qiskit-aer\n",
            "  Downloading qiskit_aer-0.17.2-cp312-cp312-manylinux_2_17_x86_64.manylinux2014_x86_64.whl.metadata (8.3 kB)\n",
            "Collecting rustworkx>=0.15.0 (from qiskit)\n",
            "  Downloading rustworkx-0.17.1-cp39-abi3-manylinux_2_17_x86_64.manylinux2014_x86_64.whl.metadata (10 kB)\n",
            "Requirement already satisfied: numpy<3,>=1.17 in /usr/local/lib/python3.12/dist-packages (from qiskit) (2.0.2)\n",
            "Requirement already satisfied: scipy>=1.5 in /usr/local/lib/python3.12/dist-packages (from qiskit) (1.16.2)\n",
            "Requirement already satisfied: dill>=0.3 in /usr/local/lib/python3.12/dist-packages (from qiskit) (0.3.8)\n",
            "Collecting stevedore>=3.0.0 (from qiskit)\n",
            "  Downloading stevedore-5.5.0-py3-none-any.whl.metadata (2.2 kB)\n",
            "Requirement already satisfied: typing-extensions in /usr/local/lib/python3.12/dist-packages (from qiskit) (4.15.0)\n",
            "Requirement already satisfied: psutil>=5 in /usr/local/lib/python3.12/dist-packages (from qiskit-aer) (5.9.5)\n",
            "Requirement already satisfied: python-dateutil>=2.8.0 in /usr/local/lib/python3.12/dist-packages (from qiskit-aer) (2.9.0.post0)\n",
            "Requirement already satisfied: six>=1.5 in /usr/local/lib/python3.12/dist-packages (from python-dateutil>=2.8.0->qiskit-aer) (1.17.0)\n",
            "Downloading qiskit-2.2.1-cp39-abi3-manylinux2014_x86_64.manylinux_2_17_x86_64.whl (8.0 MB)\n",
            "\u001b[2K   \u001b[90m━━━━━━━━━━━━━━━━━━━━━━━━━━━━━━━━━━━━━━━━\u001b[0m \u001b[32m8.0/8.0 MB\u001b[0m \u001b[31m74.5 MB/s\u001b[0m eta \u001b[36m0:00:00\u001b[0m\n",
            "\u001b[?25hDownloading qiskit_aer-0.17.2-cp312-cp312-manylinux_2_17_x86_64.manylinux2014_x86_64.whl (12.4 MB)\n",
            "\u001b[2K   \u001b[90m━━━━━━━━━━━━━━━━━━━━━━━━━━━━━━━━━━━━━━━━\u001b[0m \u001b[32m12.4/12.4 MB\u001b[0m \u001b[31m116.3 MB/s\u001b[0m eta \u001b[36m0:00:00\u001b[0m\n",
            "\u001b[?25hDownloading rustworkx-0.17.1-cp39-abi3-manylinux_2_17_x86_64.manylinux2014_x86_64.whl (2.2 MB)\n",
            "\u001b[2K   \u001b[90m━━━━━━━━━━━━━━━━━━━━━━━━━━━━━━━━━━━━━━━━\u001b[0m \u001b[32m2.2/2.2 MB\u001b[0m \u001b[31m88.6 MB/s\u001b[0m eta \u001b[36m0:00:00\u001b[0m\n",
            "\u001b[?25hDownloading stevedore-5.5.0-py3-none-any.whl (49 kB)\n",
            "\u001b[2K   \u001b[90m━━━━━━━━━━━━━━━━━━━━━━━━━━━━━━━━━━━━━━━━\u001b[0m \u001b[32m49.5/49.5 kB\u001b[0m \u001b[31m3.8 MB/s\u001b[0m eta \u001b[36m0:00:00\u001b[0m\n",
            "\u001b[?25hInstalling collected packages: stevedore, rustworkx, qiskit, qiskit-aer\n",
            "Successfully installed qiskit-2.2.1 qiskit-aer-0.17.2 rustworkx-0.17.1 stevedore-5.5.0\n"
          ]
        }
      ]
    },
    {
      "cell_type": "markdown",
      "source": [
        "# Tutorial code"
      ],
      "metadata": {
        "id": "SdF1_XlxP6SO"
      }
    },
    {
      "cell_type": "code",
      "source": [
        "from qiskit import QuantumCircuit, transpile\n",
        "from qiskit_aer import AerSimulator\n",
        "from math import pi"
      ],
      "metadata": {
        "id": "6tI7-c24QfLR"
      },
      "execution_count": 2,
      "outputs": []
    },
    {
      "cell_type": "code",
      "execution_count": 3,
      "metadata": {
        "id": "VPOwLacGrCdU",
        "colab": {
          "base_uri": "https://localhost:8080/"
        },
        "outputId": "580be636-5fc1-4ab0-d571-8ca82b96113e"
      },
      "outputs": [
        {
          "output_type": "stream",
          "name": "stdout",
          "text": [
            "Quantum Circuit:\n",
            "        ┌───┐┌───┐┌───┐┌───┐┌─────────┐ ░ ┌─┐\n",
            "     q: ┤ X ├┤ H ├┤ S ├┤ T ├┤ Rz(0.5) ├─░─┤M├\n",
            "        └───┘└───┘└───┘└───┘└─────────┘ ░ └╥┘\n",
            "   c: 1/═══════════════════════════════════╬═\n",
            "                                           ║ \n",
            "meas: 1/═══════════════════════════════════╩═\n",
            "                                           0 \n",
            "\n",
            "Measurement Counts: {'0 0': 501, '1 0': 523}\n"
          ]
        }
      ],
      "source": [
        "# Initialize simulator\n",
        "sim = AerSimulator()\n",
        "\n",
        "# Create a single-qubit circuit with one classical bit\n",
        "qc = QuantumCircuit(1, 1)\n",
        "\n",
        "# --- Apply sequence of single-qubit gates ---\n",
        "qc.x(0)        # Pauli-X (NOT gate)\n",
        "qc.h(0)        # Hadamard (superposition)\n",
        "qc.s(0)        # Phase gate (π/2)\n",
        "qc.t(0)        # T gate (π/4)\n",
        "qc.rz(0.5, 0)  # Z-axis rotation by 0.5 radians\n",
        "\n",
        "# Measure final state\n",
        "qc.measure_all()\n",
        "\n",
        "# Display circuit\n",
        "print(\"Quantum Circuit:\")\n",
        "print(qc.draw())\n",
        "\n",
        "# --- Run simulation ---\n",
        "compiled = transpile(qc, sim)\n",
        "result = sim.run(compiled, shots=1024).result()\n",
        "\n",
        "# --- Display results ---\n",
        "counts = result.get_counts()\n",
        "print(\"\\nMeasurement Counts:\", counts)\n"
      ]
    },
    {
      "cell_type": "markdown",
      "source": [
        "# Task - 1: Change Gate Order  \n",
        "   - Swap the order of the `X` and `H` gates.  \n",
        "   - Run the simulation and observe how the results change.  \n",
        "   - Explain why gate order affects the final state.\n"
      ],
      "metadata": {
        "id": "saDS7cAdP-hL"
      }
    },
    {
      "cell_type": "code",
      "source": [
        "# Initialize simulator\n",
        "sim = AerSimulator()\n",
        "\n",
        "# Create single-qubit circuit\n",
        "qc = QuantumCircuit(1, 1)\n",
        "\n",
        "# --- Modified order: Hadamard first, then X ---\n",
        "qc.h(0)        # Hadamard first\n",
        "qc.x(0)        # Then Pauli-X\n",
        "qc.s(0)\n",
        "qc.t(0)\n",
        "qc.rz(0.5, 0)\n",
        "qc.measure_all()\n",
        "\n",
        "# Display circuit\n",
        "print(\"Quantum Circuit (Changed Gate Order):\")\n",
        "print(qc.draw())\n",
        "\n",
        "# Run simulation\n",
        "compiled = transpile(qc, sim)\n",
        "result = sim.run(compiled, shots=1024).result()\n",
        "counts = result.get_counts()\n",
        "\n",
        "print(\"\\nMeasurement Counts:\", counts)\n",
        "\n",
        "\"\"\"\n",
        "Gate order affects the final state because quantum gates generally do not commute.\n",
        "The sequence in which gates are applied determines how the qubit’s amplitudes and phases evolve.\n",
        "Changing the order changes the interference between basis states, leading to different measurement outcomes.\n",
        "\"\"\""
      ],
      "metadata": {
        "colab": {
          "base_uri": "https://localhost:8080/",
          "height": 229
        },
        "id": "PknEQpLXQBCV",
        "outputId": "b0707c95-0d4e-4c26-bcea-b0af0994aba8"
      },
      "execution_count": 7,
      "outputs": [
        {
          "output_type": "stream",
          "name": "stdout",
          "text": [
            "Quantum Circuit (Changed Gate Order):\n",
            "        ┌───┐┌───┐┌───┐┌───┐┌─────────┐ ░ ┌─┐\n",
            "     q: ┤ H ├┤ X ├┤ S ├┤ T ├┤ Rz(0.5) ├─░─┤M├\n",
            "        └───┘└───┘└───┘└───┘└─────────┘ ░ └╥┘\n",
            "   c: 1/═══════════════════════════════════╬═\n",
            "                                           ║ \n",
            "meas: 1/═══════════════════════════════════╩═\n",
            "                                           0 \n",
            "\n",
            "Measurement Counts: {'0 0': 533, '1 0': 491}\n"
          ]
        },
        {
          "output_type": "execute_result",
          "data": {
            "text/plain": [
              "'\\nGate order affects the final state because quantum gates generally do not commute.\\nThe sequence in which gates are applied determines how the qubit’s amplitudes and phases evolve.\\nChanging the order changes the interference between basis states, leading to different measurement outcomes.\\n'"
            ],
            "application/vnd.google.colaboratory.intrinsic+json": {
              "type": "string"
            }
          },
          "metadata": {},
          "execution_count": 7
        }
      ]
    },
    {
      "cell_type": "markdown",
      "source": [
        "# Task - 2: Vary Rotation Angle\n",
        "   - Modify the rotation angle in `qc.rz(θ, 0)` to:  \n",
        "     - θ = π/4  \n",
        "     - θ = π/2  \n",
        "     - θ = π  "
      ],
      "metadata": {
        "id": "JExgQ2r4QRG5"
      }
    },
    {
      "cell_type": "code",
      "source": [
        "angles = [pi/4, pi/2, pi]  # different rotation angles\n",
        "\n",
        "for theta in angles:\n",
        "    qc = QuantumCircuit(1, 1)\n",
        "    qc.x(0)\n",
        "    qc.h(0)\n",
        "    qc.s(0)\n",
        "    qc.t(0)\n",
        "    qc.rz(theta, 0)\n",
        "    qc.measure_all()\n",
        "\n",
        "    print(f\"\\n--- RZ Rotation θ = {theta:.2f} radians ---\")\n",
        "    print(qc.draw())\n",
        "\n",
        "    compiled = transpile(qc, sim)\n",
        "    result = sim.run(compiled, shots=1024).result()\n",
        "    counts = result.get_counts()\n",
        "    print(\"Measurement Counts:\", counts)"
      ],
      "metadata": {
        "colab": {
          "base_uri": "https://localhost:8080/"
        },
        "id": "LMr3YyVVQTGw",
        "outputId": "9ab95fe7-0d4f-4d47-f9fe-5d72f56ff7be"
      },
      "execution_count": 5,
      "outputs": [
        {
          "output_type": "stream",
          "name": "stdout",
          "text": [
            "\n",
            "--- RZ Rotation θ = 0.79 radians ---\n",
            "        ┌───┐┌───┐┌───┐┌───┐┌─────────┐ ░ ┌─┐\n",
            "     q: ┤ X ├┤ H ├┤ S ├┤ T ├┤ Rz(π/4) ├─░─┤M├\n",
            "        └───┘└───┘└───┘└───┘└─────────┘ ░ └╥┘\n",
            "   c: 1/═══════════════════════════════════╬═\n",
            "                                           ║ \n",
            "meas: 1/═══════════════════════════════════╩═\n",
            "                                           0 \n",
            "Measurement Counts: {'1 0': 520, '0 0': 504}\n",
            "\n",
            "--- RZ Rotation θ = 1.57 radians ---\n",
            "        ┌───┐┌───┐┌───┐┌───┐┌─────────┐ ░ ┌─┐\n",
            "     q: ┤ X ├┤ H ├┤ S ├┤ T ├┤ Rz(π/2) ├─░─┤M├\n",
            "        └───┘└───┘└───┘└───┘└─────────┘ ░ └╥┘\n",
            "   c: 1/═══════════════════════════════════╬═\n",
            "                                           ║ \n",
            "meas: 1/═══════════════════════════════════╩═\n",
            "                                           0 \n",
            "Measurement Counts: {'0 0': 525, '1 0': 499}\n",
            "\n",
            "--- RZ Rotation θ = 3.14 radians ---\n",
            "        ┌───┐┌───┐┌───┐┌───┐┌───────┐ ░ ┌─┐\n",
            "     q: ┤ X ├┤ H ├┤ S ├┤ T ├┤ Rz(π) ├─░─┤M├\n",
            "        └───┘└───┘└───┘└───┘└───────┘ ░ └╥┘\n",
            "   c: 1/═════════════════════════════════╬═\n",
            "                                         ║ \n",
            "meas: 1/═════════════════════════════════╩═\n",
            "                                         0 \n",
            "Measurement Counts: {'1 0': 528, '0 0': 496}\n"
          ]
        }
      ]
    },
    {
      "cell_type": "markdown",
      "source": [
        "# Task - 3: Remove a Gate  \n",
        "   - Remove the Hadamard gate (`qc.h(0)`) from the circuit.  \n",
        "   - Rerun the program and note how the output probabilities differ."
      ],
      "metadata": {
        "id": "VOaxNFAsQTxN"
      }
    },
    {
      "cell_type": "code",
      "source": [
        "# Create single-qubit circuit without Hadamard\n",
        "qc = QuantumCircuit(1, 1)\n",
        "qc.x(0)\n",
        "# qc.h(0)  <-- removed!\n",
        "qc.s(0)\n",
        "qc.t(0)\n",
        "qc.rz(0.5, 0)\n",
        "qc.measure_all()\n",
        "\n",
        "print(\"Quantum Circuit (Without H Gate):\")\n",
        "print(qc.draw())\n",
        "\n",
        "compiled = transpile(qc, sim)\n",
        "result = sim.run(compiled, shots=1024).result()\n",
        "counts = result.get_counts()\n",
        "\n",
        "print(\"\\nMeasurement Counts:\", counts)"
      ],
      "metadata": {
        "colab": {
          "base_uri": "https://localhost:8080/"
        },
        "id": "p0ThTyDOQWT1",
        "outputId": "0112c183-30f0-4024-dc7a-5b9986666b01"
      },
      "execution_count": 6,
      "outputs": [
        {
          "output_type": "stream",
          "name": "stdout",
          "text": [
            "Quantum Circuit (Without H Gate):\n",
            "        ┌───┐┌───┐┌───┐┌─────────┐ ░ ┌─┐\n",
            "     q: ┤ X ├┤ S ├┤ T ├┤ Rz(0.5) ├─░─┤M├\n",
            "        └───┘└───┘└───┘└─────────┘ ░ └╥┘\n",
            "   c: 1/══════════════════════════════╬═\n",
            "                                      ║ \n",
            "meas: 1/══════════════════════════════╩═\n",
            "                                      0 \n",
            "\n",
            "Measurement Counts: {'1 0': 1024}\n"
          ]
        }
      ]
    }
  ]
}